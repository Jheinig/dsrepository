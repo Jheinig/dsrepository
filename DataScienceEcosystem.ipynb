{
 "cells": [
  {
   "cell_type": "markdown",
   "id": "38677728-eb46-4ece-b363-e5d44acb99a0",
   "metadata": {},
   "source": [
    "# Data Science Tools and Ecosystems"
   ]
  },
  {
   "cell_type": "markdown",
   "id": "6cff8c50-24d0-4705-be0b-49d536e0f331",
   "metadata": {},
   "source": [
    "## In this Notebook, Data Science Tools and Ecosystems are summarized."
   ]
  },
  {
   "cell_type": "markdown",
   "id": "c2f90f79-9427-4b97-ab20-aece1ff684ea",
   "metadata": {},
   "source": [
    "##  **Objective**:\n",
    "- List libraries commonly used by data scientists\n",
    "- create a table to list data science tools\n",
    "- list popular languages used by data scientists"
   ]
  },
  {
   "cell_type": "markdown",
   "id": "d197cfb6-e320-4416-9c87-badead32f129",
   "metadata": {},
   "source": [
    "Some of the popular languages that Data Scientists use are:\n",
    "1. Python\n",
    "2. R\n",
    "3. Java"
   ]
  },
  {
   "cell_type": "markdown",
   "id": "89ea81b7-0e0a-4857-aa13-b81498bcb695",
   "metadata": {},
   "source": [
    "Some of the commonly used libraries used by data scientists includes:\n",
    "1. Numpy\n",
    "2. Pandas\n",
    "3. TensorFlow"
   ]
  },
  {
   "cell_type": "markdown",
   "id": "1291922d-e570-4edc-a404-bb56a72b8ea5",
   "metadata": {},
   "source": [
    "| Data Science Tools |\n",
    "| --- |\n",
    "| Apache Spark |\n",
    "| Apache Hadoop |\n",
    "| Git |"
   ]
  },
  {
   "cell_type": "markdown",
   "id": "e74ad400-77c8-4430-9911-7120f5c2b899",
   "metadata": {},
   "source": [
    "### Below are a few examples of evaluating arithmatic expression in Python"
   ]
  },
  {
   "cell_type": "code",
   "execution_count": 7,
   "id": "807b881a-e114-4124-bfc5-72c18b334137",
   "metadata": {},
   "outputs": [
    {
     "data": {
      "text/plain": [
       "17"
      ]
     },
     "execution_count": 7,
     "metadata": {},
     "output_type": "execute_result"
    }
   ],
   "source": [
    "# this is a simple arithmetic expression to multiply then add integers\n",
    "(3*4)+5"
   ]
  },
  {
   "cell_type": "code",
   "execution_count": 15,
   "id": "a161b101-e366-4a92-a93b-77d58c845e1a",
   "metadata": {},
   "outputs": [
    {
     "data": {
      "text/plain": [
       "3"
      ]
     },
     "execution_count": 15,
     "metadata": {},
     "output_type": "execute_result"
    }
   ],
   "source": [
    "# this will convert 200 minutes to hours by dividing by 60\n",
    "200//60"
   ]
  },
  {
   "cell_type": "markdown",
   "id": "2c3e7ba2-1ade-413b-b1b6-b61201892d6b",
   "metadata": {},
   "source": [
    "## Author\n",
    "Julie Heinig"
   ]
  },
  {
   "cell_type": "code",
   "execution_count": null,
   "id": "dc477284-1fb3-479d-a047-6f6198f0751e",
   "metadata": {},
   "outputs": [],
   "source": []
  }
 ],
 "metadata": {
  "kernelspec": {
   "display_name": "Python [conda env:base] *",
   "language": "python",
   "name": "conda-base-py"
  },
  "language_info": {
   "codemirror_mode": {
    "name": "ipython",
    "version": 3
   },
   "file_extension": ".py",
   "mimetype": "text/x-python",
   "name": "python",
   "nbconvert_exporter": "python",
   "pygments_lexer": "ipython3",
   "version": "3.12.7"
  }
 },
 "nbformat": 4,
 "nbformat_minor": 5
}
